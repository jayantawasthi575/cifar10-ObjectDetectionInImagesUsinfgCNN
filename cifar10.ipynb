{
 "cells": [
  {
   "cell_type": "code",
   "execution_count": 1,
   "metadata": {
    "_cell_guid": "79c7e3d0-c299-4dcb-8224-4455121ee9b0",
    "_uuid": "d629ff2d2480ee46fbb7e2d37f6b5fab8052498a",
    "execution": {
     "iopub.execute_input": "2020-11-21T14:19:03.944434Z",
     "iopub.status.busy": "2020-11-21T14:19:03.943711Z",
     "iopub.status.idle": "2020-11-21T14:19:09.137416Z",
     "shell.execute_reply": "2020-11-21T14:19:09.138106Z"
    },
    "papermill": {
     "duration": 5.216902,
     "end_time": "2020-11-21T14:19:09.138342",
     "exception": false,
     "start_time": "2020-11-21T14:19:03.921440",
     "status": "completed"
    },
    "tags": []
   },
   "outputs": [],
   "source": [
    "import keras\n",
    "from keras.datasets import cifar10\n",
    "from keras.preprocessing.image import ImageDataGenerator\n",
    "from keras.models import Sequential\n",
    "from keras.layers import Dense,Dropout,Activation,Flatten\n",
    "from keras.layers import Conv2D,MaxPooling2D\n",
    "import os\n",
    "import numpy as np\n",
    "import seaborn as sns\n",
    "import matplotlib\n",
    "import matplotlib.pyplot as plt\n",
    "\n",
    "from sklearn.metrics import confusion_matrix, classification_report\n",
    "import itertools\n",
    "\n",
    "%matplotlib inline"
   ]
  },
  {
   "cell_type": "code",
   "execution_count": 2,
   "metadata": {
    "execution": {
     "iopub.execute_input": "2020-11-21T14:19:09.179063Z",
     "iopub.status.busy": "2020-11-21T14:19:09.178068Z",
     "iopub.status.idle": "2020-11-21T14:19:16.019024Z",
     "shell.execute_reply": "2020-11-21T14:19:16.018337Z"
    },
    "papermill": {
     "duration": 6.864598,
     "end_time": "2020-11-21T14:19:16.019156",
     "exception": false,
     "start_time": "2020-11-21T14:19:09.154558",
     "status": "completed"
    },
    "tags": []
   },
   "outputs": [
    {
     "name": "stdout",
     "output_type": "stream",
     "text": [
      "Downloading data from https://www.cs.toronto.edu/~kriz/cifar-10-python.tar.gz\n",
      "170500096/170498071 [==============================] - 5s 0us/step\n"
     ]
    }
   ],
   "source": [
    "(x_train, y_train), (x_test, y_test) = cifar10.load_data()"
   ]
  },
  {
   "cell_type": "code",
   "execution_count": 3,
   "metadata": {
    "execution": {
     "iopub.execute_input": "2020-11-21T14:19:16.110150Z",
     "iopub.status.busy": "2020-11-21T14:19:16.109145Z",
     "iopub.status.idle": "2020-11-21T14:19:16.264426Z",
     "shell.execute_reply": "2020-11-21T14:19:16.263850Z"
    },
    "papermill": {
     "duration": 0.200956,
     "end_time": "2020-11-21T14:19:16.264531",
     "exception": false,
     "start_time": "2020-11-21T14:19:16.063575",
     "status": "completed"
    },
    "tags": []
   },
   "outputs": [],
   "source": [
    "x_train=x_train.astype(\"float32\")\n",
    "y_train=y_train.astype(\"float32\")"
   ]
  },
  {
   "cell_type": "code",
   "execution_count": 4,
   "metadata": {
    "execution": {
     "iopub.execute_input": "2020-11-21T14:19:16.364694Z",
     "iopub.status.busy": "2020-11-21T14:19:16.363410Z",
     "iopub.status.idle": "2020-11-21T14:19:16.627330Z",
     "shell.execute_reply": "2020-11-21T14:19:16.626783Z"
    },
    "papermill": {
     "duration": 0.312962,
     "end_time": "2020-11-21T14:19:16.627435",
     "exception": false,
     "start_time": "2020-11-21T14:19:16.314473",
     "status": "completed"
    },
    "tags": []
   },
   "outputs": [],
   "source": [
    "xtrain=x_train/255\n",
    "xtest=x_test/255\n"
   ]
  },
  {
   "cell_type": "code",
   "execution_count": 5,
   "metadata": {
    "execution": {
     "iopub.execute_input": "2020-11-21T14:19:16.730367Z",
     "iopub.status.busy": "2020-11-21T14:19:16.729027Z",
     "iopub.status.idle": "2020-11-21T14:19:16.732834Z",
     "shell.execute_reply": "2020-11-21T14:19:16.733390Z"
    },
    "papermill": {
     "duration": 0.058545,
     "end_time": "2020-11-21T14:19:16.733515",
     "exception": false,
     "start_time": "2020-11-21T14:19:16.674970",
     "status": "completed"
    },
    "tags": []
   },
   "outputs": [],
   "source": [
    "ytrain=keras.utils.to_categorical(y_train,10)\n",
    "ytest=keras.utils.to_categorical(y_test,10)"
   ]
  },
  {
   "cell_type": "code",
   "execution_count": 6,
   "metadata": {
    "execution": {
     "iopub.execute_input": "2020-11-21T14:19:16.836559Z",
     "iopub.status.busy": "2020-11-21T14:19:16.835475Z",
     "iopub.status.idle": "2020-11-21T14:19:16.840077Z",
     "shell.execute_reply": "2020-11-21T14:19:16.840569Z"
    },
    "papermill": {
     "duration": 0.061161,
     "end_time": "2020-11-21T14:19:16.840759",
     "exception": false,
     "start_time": "2020-11-21T14:19:16.779598",
     "status": "completed"
    },
    "tags": []
   },
   "outputs": [
    {
     "data": {
      "text/plain": [
       "array([[0., 0., 0., ..., 0., 0., 0.],\n",
       "       [0., 0., 0., ..., 0., 0., 1.],\n",
       "       [0., 0., 0., ..., 0., 0., 1.],\n",
       "       ...,\n",
       "       [0., 0., 0., ..., 0., 0., 1.],\n",
       "       [0., 1., 0., ..., 0., 0., 0.],\n",
       "       [0., 1., 0., ..., 0., 0., 0.]], dtype=float32)"
      ]
     },
     "execution_count": 6,
     "metadata": {},
     "output_type": "execute_result"
    }
   ],
   "source": [
    "ytrain"
   ]
  },
  {
   "cell_type": "code",
   "execution_count": 7,
   "metadata": {
    "execution": {
     "iopub.execute_input": "2020-11-21T14:19:16.945405Z",
     "iopub.status.busy": "2020-11-21T14:19:16.944430Z",
     "iopub.status.idle": "2020-11-21T14:19:16.949094Z",
     "shell.execute_reply": "2020-11-21T14:19:16.949516Z"
    },
    "papermill": {
     "duration": 0.057329,
     "end_time": "2020-11-21T14:19:16.949669",
     "exception": false,
     "start_time": "2020-11-21T14:19:16.892340",
     "status": "completed"
    },
    "tags": []
   },
   "outputs": [
    {
     "data": {
      "text/plain": [
       "9"
      ]
     },
     "execution_count": 7,
     "metadata": {},
     "output_type": "execute_result"
    }
   ],
   "source": [
    "ytrain[1].argmax(axis=0)"
   ]
  },
  {
   "cell_type": "code",
   "execution_count": 8,
   "metadata": {
    "execution": {
     "iopub.execute_input": "2020-11-21T14:19:17.045140Z",
     "iopub.status.busy": "2020-11-21T14:19:17.044213Z",
     "iopub.status.idle": "2020-11-21T14:19:17.047981Z",
     "shell.execute_reply": "2020-11-21T14:19:17.048458Z"
    },
    "papermill": {
     "duration": 0.055382,
     "end_time": "2020-11-21T14:19:17.048581",
     "exception": false,
     "start_time": "2020-11-21T14:19:16.993199",
     "status": "completed"
    },
    "tags": []
   },
   "outputs": [
    {
     "data": {
      "text/plain": [
       "array([[[0.23137255, 0.24313726, 0.24705882],\n",
       "        [0.16862746, 0.18039216, 0.1764706 ],\n",
       "        [0.19607843, 0.1882353 , 0.16862746],\n",
       "        ...,\n",
       "        [0.61960787, 0.5176471 , 0.42352942],\n",
       "        [0.59607846, 0.49019608, 0.4       ],\n",
       "        [0.5803922 , 0.4862745 , 0.40392157]],\n",
       "\n",
       "       [[0.0627451 , 0.07843138, 0.07843138],\n",
       "        [0.        , 0.        , 0.        ],\n",
       "        [0.07058824, 0.03137255, 0.        ],\n",
       "        ...,\n",
       "        [0.48235294, 0.34509805, 0.21568628],\n",
       "        [0.46666667, 0.3254902 , 0.19607843],\n",
       "        [0.47843137, 0.34117648, 0.22352941]],\n",
       "\n",
       "       [[0.09803922, 0.09411765, 0.08235294],\n",
       "        [0.0627451 , 0.02745098, 0.        ],\n",
       "        [0.19215687, 0.10588235, 0.03137255],\n",
       "        ...,\n",
       "        [0.4627451 , 0.32941177, 0.19607843],\n",
       "        [0.47058824, 0.32941177, 0.19607843],\n",
       "        [0.42745098, 0.28627452, 0.16470589]],\n",
       "\n",
       "       ...,\n",
       "\n",
       "       [[0.8156863 , 0.6666667 , 0.3764706 ],\n",
       "        [0.7882353 , 0.6       , 0.13333334],\n",
       "        [0.7764706 , 0.6313726 , 0.10196079],\n",
       "        ...,\n",
       "        [0.627451  , 0.52156866, 0.27450982],\n",
       "        [0.21960784, 0.12156863, 0.02745098],\n",
       "        [0.20784314, 0.13333334, 0.07843138]],\n",
       "\n",
       "       [[0.7058824 , 0.54509807, 0.3764706 ],\n",
       "        [0.6784314 , 0.48235294, 0.16470589],\n",
       "        [0.7294118 , 0.5647059 , 0.11764706],\n",
       "        ...,\n",
       "        [0.72156864, 0.5803922 , 0.36862746],\n",
       "        [0.38039216, 0.24313726, 0.13333334],\n",
       "        [0.3254902 , 0.20784314, 0.13333334]],\n",
       "\n",
       "       [[0.69411767, 0.5647059 , 0.45490196],\n",
       "        [0.65882355, 0.5058824 , 0.36862746],\n",
       "        [0.7019608 , 0.5568628 , 0.34117648],\n",
       "        ...,\n",
       "        [0.84705883, 0.72156864, 0.54901963],\n",
       "        [0.5921569 , 0.4627451 , 0.32941177],\n",
       "        [0.48235294, 0.36078432, 0.28235295]]], dtype=float32)"
      ]
     },
     "execution_count": 8,
     "metadata": {},
     "output_type": "execute_result"
    }
   ],
   "source": [
    "xtrain[0]"
   ]
  },
  {
   "cell_type": "code",
   "execution_count": 9,
   "metadata": {
    "execution": {
     "iopub.execute_input": "2020-11-21T14:19:17.142970Z",
     "iopub.status.busy": "2020-11-21T14:19:17.142132Z",
     "iopub.status.idle": "2020-11-21T14:19:17.144893Z",
     "shell.execute_reply": "2020-11-21T14:19:17.144382Z"
    },
    "papermill": {
     "duration": 0.0513,
     "end_time": "2020-11-21T14:19:17.144985",
     "exception": false,
     "start_time": "2020-11-21T14:19:17.093685",
     "status": "completed"
    },
    "tags": []
   },
   "outputs": [],
   "source": [
    "labels = ['Airplane', 'Automobile', 'Bird', 'Cat', 'Deer', 'Dog', 'Frog', 'Horse', 'Ship', 'Truck']"
   ]
  },
  {
   "cell_type": "code",
   "execution_count": 10,
   "metadata": {
    "execution": {
     "iopub.execute_input": "2020-11-21T14:19:17.236972Z",
     "iopub.status.busy": "2020-11-21T14:19:17.236281Z",
     "iopub.status.idle": "2020-11-21T14:19:17.423346Z",
     "shell.execute_reply": "2020-11-21T14:19:17.422786Z"
    },
    "papermill": {
     "duration": 0.23442,
     "end_time": "2020-11-21T14:19:17.423464",
     "exception": false,
     "start_time": "2020-11-21T14:19:17.189044",
     "status": "completed"
    },
    "tags": []
   },
   "outputs": [
    {
     "data": {
      "text/plain": [
       "<matplotlib.image.AxesImage at 0x7fe8dd838350>"
      ]
     },
     "execution_count": 10,
     "metadata": {},
     "output_type": "execute_result"
    },
    {
     "data": {
      "image/png": "[encoded data removed]",
      "text/plain": [
       "<Figure size 432x288 with 1 Axes>"
      ]
     },
     "metadata": {
      "needs_background": "light"
     },
     "output_type": "display_data"
    }
   ],
   "source": [
    "plt.imshow(xtrain[1])"
   ]
  },
  {
   "cell_type": "code",
   "execution_count": 11,
   "metadata": {
    "execution": {
     "iopub.execute_input": "2020-11-21T14:19:17.535097Z",
     "iopub.status.busy": "2020-11-21T14:19:17.534030Z",
     "iopub.status.idle": "2020-11-21T14:19:20.258181Z",
     "shell.execute_reply": "2020-11-21T14:19:20.257365Z"
    },
    "papermill": {
     "duration": 2.783907,
     "end_time": "2020-11-21T14:19:20.258291",
     "exception": false,
     "start_time": "2020-11-21T14:19:17.474384",
     "status": "completed"
    },
    "tags": []
   },
   "outputs": [
    {
     "name": "stdout",
     "output_type": "stream",
     "text": [
      "Model: \"sequential\"\n",
      "_________________________________________________________________\n",
      "Layer (type)                 Output Shape              Param #   \n",
      "=================================================================\n",
      "conv2d (Conv2D)              (None, 32, 32, 32)        896       \n",
      "_________________________________________________________________\n",
      "max_pooling2d (MaxPooling2D) (None, 16, 16, 32)        0         \n",
      "_________________________________________________________________\n",
      "conv2d_1 (Conv2D)            (None, 16, 16, 64)        18496     \n",
      "_________________________________________________________________\n",
      "max_pooling2d_1 (MaxPooling2 (None, 8, 8, 64)          0         \n",
      "_________________________________________________________________\n",
      "conv2d_2 (Conv2D)            (None, 8, 8, 128)         73856     \n",
      "_________________________________________________________________\n",
      "max_pooling2d_2 (MaxPooling2 (None, 4, 4, 128)         0         \n",
      "_________________________________________________________________\n",
      "flatten (Flatten)            (None, 2048)              0         \n",
      "_________________________________________________________________\n",
      "dense (Dense)                (None, 128)               262272    \n",
      "_________________________________________________________________\n",
      "dropout (Dropout)            (None, 128)               0         \n",
      "_________________________________________________________________\n",
      "dense_1 (Dense)              (None, 10)                1290      \n",
      "=================================================================\n",
      "Total params: 356,810\n",
      "Trainable params: 356,810\n",
      "Non-trainable params: 0\n",
      "_________________________________________________________________\n"
     ]
    }
   ],
   "source": [
    "modelt=Sequential()\n",
    "modelt.add(Conv2D(32,(3,3),activation=\"relu\",kernel_initializer=\"he_uniform\",padding=\"same\",input_shape=(32, 32, 3)))\n",
    "modelt.add(MaxPooling2D((2,2)))\n",
    "modelt.add(Conv2D(64,(3,3),activation=\"relu\",kernel_initializer=\"he_uniform\",padding=\"same\"))\n",
    "modelt.add(MaxPooling2D((2,2)))\n",
    "modelt.add(Conv2D(128, (3, 3), activation='relu', kernel_initializer='he_uniform', padding='same'))\n",
    "modelt.add(MaxPooling2D((2, 2)))\n",
    "modelt.add(Flatten())\n",
    "modelt.add(Dense(128,activation=\"relu\",kernel_initializer=\"he_uniform\"))\n",
    "modelt.add(Dropout(0.5))\n",
    "modelt.add(Dense(10,activation='softmax'))\n",
    "modelt.summary()"
   ]
  },
  {
   "cell_type": "code",
   "execution_count": 12,
   "metadata": {
    "execution": {
     "iopub.execute_input": "2020-11-21T14:19:20.368098Z",
     "iopub.status.busy": "2020-11-21T14:19:20.367123Z",
     "iopub.status.idle": "2020-11-21T14:19:20.374512Z",
     "shell.execute_reply": "2020-11-21T14:19:20.373979Z"
    },
    "papermill": {
     "duration": 0.068097,
     "end_time": "2020-11-21T14:19:20.374633",
     "exception": false,
     "start_time": "2020-11-21T14:19:20.306536",
     "status": "completed"
    },
    "tags": []
   },
   "outputs": [],
   "source": [
    "modelt.compile(loss=\"categorical_crossentropy\",optimizer='adam',metrics=[\"accuracy\"])"
   ]
  },
  {
   "cell_type": "code",
   "execution_count": 13,
   "metadata": {
    "execution": {
     "iopub.execute_input": "2020-11-21T14:19:20.475398Z",
     "iopub.status.busy": "2020-11-21T14:19:20.474744Z",
     "iopub.status.idle": "2020-11-21T14:21:49.125465Z",
     "shell.execute_reply": "2020-11-21T14:21:49.124897Z"
    },
    "papermill": {
     "duration": 148.701418,
     "end_time": "2020-11-21T14:21:49.125585",
     "exception": false,
     "start_time": "2020-11-21T14:19:20.424167",
     "status": "completed"
    },
    "tags": []
   },
   "outputs": [
    {
     "name": "stdout",
     "output_type": "stream",
     "text": [
      "Epoch 1/25\n",
      "1563/1563 - 6s - loss: 1.6620 - accuracy: 0.3874 - val_loss: 1.2399 - val_accuracy: 0.5623\n",
      "Epoch 2/25\n",
      "1563/1563 - 6s - loss: 1.2706 - accuracy: 0.5462 - val_loss: 1.0341 - val_accuracy: 0.6412\n",
      "Epoch 3/25\n",
      "1563/1563 - 6s - loss: 1.0972 - accuracy: 0.6153 - val_loss: 0.9135 - val_accuracy: 0.6862\n",
      "Epoch 4/25\n",
      "1563/1563 - 6s - loss: 0.9709 - accuracy: 0.6627 - val_loss: 0.8659 - val_accuracy: 0.6975\n",
      "Epoch 5/25\n",
      "1563/1563 - 6s - loss: 0.8795 - accuracy: 0.6925 - val_loss: 0.8382 - val_accuracy: 0.7065\n",
      "Epoch 6/25\n",
      "1563/1563 - 6s - loss: 0.7956 - accuracy: 0.7230 - val_loss: 0.8201 - val_accuracy: 0.7156\n",
      "Epoch 7/25\n",
      "1563/1563 - 6s - loss: 0.7324 - accuracy: 0.7431 - val_loss: 0.7828 - val_accuracy: 0.7317\n",
      "Epoch 8/25\n",
      "1563/1563 - 5s - loss: 0.6773 - accuracy: 0.7619 - val_loss: 0.7767 - val_accuracy: 0.7368\n",
      "Epoch 9/25\n",
      "1563/1563 - 6s - loss: 0.6193 - accuracy: 0.7828 - val_loss: 0.8289 - val_accuracy: 0.7313\n",
      "Epoch 10/25\n",
      "1563/1563 - 5s - loss: 0.5825 - accuracy: 0.7933 - val_loss: 0.7729 - val_accuracy: 0.7477\n",
      "Epoch 11/25\n",
      "1563/1563 - 6s - loss: 0.5488 - accuracy: 0.8077 - val_loss: 0.7851 - val_accuracy: 0.7529\n",
      "Epoch 12/25\n",
      "1563/1563 - 5s - loss: 0.5146 - accuracy: 0.8176 - val_loss: 0.8050 - val_accuracy: 0.7463\n",
      "Epoch 13/25\n",
      "1563/1563 - 6s - loss: 0.4784 - accuracy: 0.8290 - val_loss: 0.8356 - val_accuracy: 0.7525\n",
      "Epoch 14/25\n",
      "1563/1563 - 6s - loss: 0.4594 - accuracy: 0.8362 - val_loss: 0.8556 - val_accuracy: 0.7440\n",
      "Epoch 15/25\n",
      "1563/1563 - 6s - loss: 0.4276 - accuracy: 0.8487 - val_loss: 0.8579 - val_accuracy: 0.7452\n",
      "Epoch 16/25\n",
      "1563/1563 - 6s - loss: 0.4159 - accuracy: 0.8523 - val_loss: 0.8609 - val_accuracy: 0.7502\n",
      "Epoch 17/25\n",
      "1563/1563 - 6s - loss: 0.3844 - accuracy: 0.8622 - val_loss: 0.9501 - val_accuracy: 0.7421\n",
      "Epoch 18/25\n",
      "1563/1563 - 6s - loss: 0.3796 - accuracy: 0.8661 - val_loss: 0.9374 - val_accuracy: 0.7519\n",
      "Epoch 19/25\n",
      "1563/1563 - 6s - loss: 0.3613 - accuracy: 0.8702 - val_loss: 0.9116 - val_accuracy: 0.7490\n",
      "Epoch 20/25\n",
      "1563/1563 - 5s - loss: 0.3424 - accuracy: 0.8785 - val_loss: 0.9605 - val_accuracy: 0.7531\n",
      "Epoch 21/25\n",
      "1563/1563 - 5s - loss: 0.3253 - accuracy: 0.8818 - val_loss: 1.0288 - val_accuracy: 0.7508\n",
      "Epoch 22/25\n",
      "1563/1563 - 5s - loss: 0.3181 - accuracy: 0.8849 - val_loss: 1.0531 - val_accuracy: 0.7410\n",
      "Epoch 23/25\n",
      "1563/1563 - 6s - loss: 0.3083 - accuracy: 0.8901 - val_loss: 1.0374 - val_accuracy: 0.7411\n",
      "Epoch 24/25\n",
      "1563/1563 - 6s - loss: 0.2989 - accuracy: 0.8930 - val_loss: 1.1557 - val_accuracy: 0.7525\n",
      "Epoch 25/25\n",
      "1563/1563 - 6s - loss: 0.2914 - accuracy: 0.8955 - val_loss: 1.1547 - val_accuracy: 0.7436\n"
     ]
    }
   ],
   "source": [
    "history=modelt.fit(xtrain,ytrain,batch_size=32,epochs=25,verbose=2,validation_data=(xtest,ytest))"
   ]
  },
  {
   "cell_type": "code",
   "execution_count": 14,
   "metadata": {
    "execution": {
     "iopub.execute_input": "2020-11-21T14:21:49.266244Z",
     "iopub.status.busy": "2020-11-21T14:21:49.264325Z",
     "iopub.status.idle": "2020-11-21T14:21:49.266915Z",
     "shell.execute_reply": "2020-11-21T14:21:49.267376Z"
    },
    "papermill": {
     "duration": 0.076438,
     "end_time": "2020-11-21T14:21:49.267493",
     "exception": false,
     "start_time": "2020-11-21T14:21:49.191055",
     "status": "completed"
    },
    "tags": []
   },
   "outputs": [],
   "source": [
    "def summary(history): \n",
    "    plt.subplot(211)\n",
    "    plt.title(\"Loss\")\n",
    "    plt.plot(history.history['loss'],color=\"blue\",label=\"train\")\n",
    "    plt.plot(history.history['val_loss'],color=\"orange\",label=\"test\")\n",
    "    plt.subplot(212)\n",
    "    plt.title('Classification Accuracy')\n",
    "    plt.plot(history.history['accuracy'], color='blue', label='train')\n",
    "    plt.plot(history.history['val_accuracy'], color='orange', label='test')\n",
    "    plt.tight_layout()\n",
    "    plt.show()"
   ]
  },
  {
   "cell_type": "code",
   "execution_count": 15,
   "metadata": {
    "execution": {
     "iopub.execute_input": "2020-11-21T14:21:49.406386Z",
     "iopub.status.busy": "2020-11-21T14:21:49.404826Z",
     "iopub.status.idle": "2020-11-21T14:21:49.694511Z",
     "shell.execute_reply": "2020-11-21T14:21:49.694010Z"
    },
    "papermill": {
     "duration": 0.36366,
     "end_time": "2020-11-21T14:21:49.694625",
     "exception": false,
     "start_time": "2020-11-21T14:21:49.330965",
     "status": "completed"
    },
    "tags": []
   },
   "outputs": [
    {
     "data": {
      "image/png": "[encoded data removed]",
      "text/plain": [
       "<Figure size 432x288 with 2 Axes>"
      ]
     },
     "metadata": {
      "needs_background": "light"
     },
     "output_type": "display_data"
    }
   ],
   "source": [
    "summary(history)"
   ]
  },
  {
   "cell_type": "code",
   "execution_count": 16,
   "metadata": {
    "execution": {
     "iopub.execute_input": "2020-11-21T14:21:49.836489Z",
     "iopub.status.busy": "2020-11-21T14:21:49.835562Z",
     "iopub.status.idle": "2020-11-21T14:21:50.840121Z",
     "shell.execute_reply": "2020-11-21T14:21:50.839343Z"
    },
    "papermill": {
     "duration": 1.076579,
     "end_time": "2020-11-21T14:21:50.840231",
     "exception": false,
     "start_time": "2020-11-21T14:21:49.763652",
     "status": "completed"
    },
    "tags": []
   },
   "outputs": [
    {
     "name": "stdout",
     "output_type": "stream",
     "text": [
      "313/313 [==============================] - 1s 3ms/step - loss: 1.1547 - accuracy: 0.7436\n"
     ]
    }
   ],
   "source": [
    "sc=modelt.evaluate(xtest,ytest)"
   ]
  },
  {
   "cell_type": "code",
   "execution_count": 17,
   "metadata": {
    "execution": {
     "iopub.execute_input": "2020-11-21T14:21:50.992286Z",
     "iopub.status.busy": "2020-11-21T14:21:50.991353Z",
     "iopub.status.idle": "2020-11-21T14:21:50.997785Z",
     "shell.execute_reply": "2020-11-21T14:21:50.997209Z"
    },
    "papermill": {
     "duration": 0.084842,
     "end_time": "2020-11-21T14:21:50.997891",
     "exception": false,
     "start_time": "2020-11-21T14:21:50.913049",
     "status": "completed"
    },
    "tags": []
   },
   "outputs": [
    {
     "name": "stdout",
     "output_type": "stream",
     "text": [
      "loss  1.1547362804412842\n",
      "accuracy  0.7436000108718872\n"
     ]
    }
   ],
   "source": [
    "print(\"loss \",sc[0])\n",
    "print(\"accuracy \",sc[1])"
   ]
  }
 ],
 "metadata": {
  "kernelspec": {
   "display_name": "Python 3",
   "language": "python",
   "name": "python3"
  },
  "language_info": {
   "codemirror_mode": {
    "name": "ipython",
    "version": 3
   },
   "file_extension": ".py",
   "mimetype": "text/x-python",
   "name": "python",
   "nbconvert_exporter": "python",
   "pygments_lexer": "ipython3",
   "version": "3.7.6"
  },
  "papermill": {
   "duration": 172.82702,
   "end_time": "2020-11-21T14:21:52.443299",
   "environment_variables": {},
   "exception": null,
   "input_path": "__notebook__.ipynb",
   "output_path": "__notebook__.ipynb",
   "parameters": {},
   "start_time": "2020-11-21T14:18:59.616279",
   "version": "2.1.0"
  }
 },
 "nbformat": 4,
 "nbformat_minor": 4
}
